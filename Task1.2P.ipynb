{
 "cells": [
  {
   "cell_type": "markdown",
   "id": "5648f675-dd1b-437c-9cfd-cd9128ffcb0d",
   "metadata": {},
   "source": [
    "**Task 1.2P**  \n",
    "**Working with numpy Vectors (Unidimensional Data)**"
   ]
  },
  {
   "cell_type": "markdown",
   "id": "a4596301-5bfc-4351-8bfe-964356bbfd0c",
   "metadata": {},
   "source": [
    "**Introduction**<br>\n",
    "This report presents analysis of the daily closing price of BTC against the USD.<br>\n",
    "This is focusing on mathematical operions using NumPy, statistical analysis, and data visualization.<br>\n",
    "It is focused on understanding the trends and price movements in Q3 2023, with extensions to other quarters for comparison."
   ]
  },
  {
   "cell_type": "code",
   "execution_count": null,
   "id": "f0493b6f-26a9-43b6-a249-0081e286d5f9",
   "metadata": {},
   "outputs": [],
   "source": [
    "# Importing numpy \n",
    "import numpy as np"
   ]
  },
  {
   "cell_type": "markdown",
   "id": "2caa7d8e-41ad-46f7-b112-48dd8a0a50d0",
   "metadata": {},
   "source": [
    "**Loading data set**  \n",
    "- The code loads the cleaned BTC-USD price data from a CSV file into a NumPy array named BTC_df"
   ]
  },
  {
   "cell_type": "code",
   "execution_count": null,
   "id": "59505c28-1ceb-4bbf-a3bd-e2ebc5a0b431",
   "metadata": {},
   "outputs": [],
   "source": [
    "# Loading cleaned data of BTC-USD Prices.\n",
    "BTC_df = np.loadtxt(\"BTC-USD_Task1.2P.csv\")"
   ]
  },
  {
   "cell_type": "code",
   "execution_count": null,
   "id": "de001c89-dfbb-4584-8e6d-8a28072dd892",
   "metadata": {},
   "outputs": [],
   "source": [
    "#Extracting Q3-2023 Data for analysis.\n",
    "df_q3 = BTC_df[181:273]"
   ]
  },
  {
   "cell_type": "markdown",
   "id": "012e38c5-7f17-4ea3-8376-58d98bbb3e60",
   "metadata": {},
   "source": [
    "**Defining variables to show statistical values.**\n",
    "- Which includes mean,median, IQR and mode"
   ]
  },
  {
   "cell_type": "code",
   "execution_count": null,
   "id": "47bd5ef3-54e6-4e84-8d9e-f4a28def7817",
   "metadata": {},
   "outputs": [],
   "source": [
    "# Defining variables for Q3\n",
    "Q3_mean = round(np.mean(df_q3),2)\n",
    "Q3_min = round(np.min(df_q3),2)\n",
    "Q3_q1 = round(np.quantile(df_q3,[.25])[0],2)\n",
    "Q3_median = round(np.median(df_q3),2)\n",
    "Q3_q3 = round(np.quantile(df_q3,[.75])[0],2)\n",
    "Q3_max = round(np.max(df_q3),2)\n",
    "Q3_std = round(np.std(df_q3),2)\n",
    "Q3_IQR = round(Q3_q3-Q3_q1,2)\n"
   ]
  },
  {
   "cell_type": "code",
   "execution_count": null,
   "id": "d8c00b41-3567-41dd-8c2e-dcf15643d239",
   "metadata": {},
   "outputs": [],
   "source": [
    "# Printing Summary Statistics for Q3\n",
    "print(\"----Q3 2023 Summary Statistics----\")\n",
    "print(\"  Mean              :\", Q3_mean)\n",
    "print(\"  Min               :\", Q3_min)\n",
    "print(\"  Q1                :\", Q3_q1)\n",
    "print(\"  Median            :\", Q3_median)\n",
    "print(\"  Q3                :\", Q3_q3)\n",
    "print(\"  Max               :\", Q3_max)\n",
    "print(\"  Standard Deviation:\", Q3_std)\n",
    "print(\"  IQR               :\", Q3_IQR)\n",
    "print(\"----------------------------------\")\n"
   ]
  },
  {
   "cell_type": "code",
   "execution_count": null,
   "id": "5ed6bd3f-a434-4d45-a78b-331d805d0f43",
   "metadata": {},
   "outputs": [],
   "source": [
    "#  Importing Necessary Libraries\n",
    "import matplotlib.pyplot as  plt"
   ]
  },
  {
   "cell_type": "markdown",
   "id": "84990aef-fe2c-462d-9b11-6e88501536d5",
   "metadata": {},
   "source": [
    "**visualization**\n",
    "- The plot visualizes the BTC to USD prices for Q3, showing daily price fluctuations starting from July 1st"
   ]
  },
  {
   "cell_type": "code",
   "execution_count": null,
   "id": "18ce3a21-95b8-45e2-befa-d3c231218a25",
   "metadata": {},
   "outputs": [],
   "source": [
    "#Plotting Q3 Prices(BTC to USD)\n",
    "plt.plot(df_q3,\"red\")\n",
    "plt.title(\"BTC to USD\")\n",
    "plt.xlabel(\"Day number starting from (July-1st)\")\n",
    "plt.ylabel(\"Price in USD\")\n",
    "plt.show()"
   ]
  },
  {
   "cell_type": "markdown",
   "id": "65bd68b9-d2c3-4bc6-be87-09c850de1624",
   "metadata": {},
   "source": [
    "**The lowest and highest prices in Q3 occurred on specific days, with the lowest price on day 182 + min_day and the highest price on day 182 + max_day, reflecting the values of Q3_min and Q3_max.**\n",
    "  "
   ]
  },
  {
   "cell_type": "code",
   "execution_count": null,
   "id": "cc66b622-afdb-4540-9944-95e005fad08a",
   "metadata": {},
   "outputs": [],
   "source": [
    "# Printing Day with Min and Max Prices in Q3\n",
    "min_day = 182 + np.argmin(df_q3)\n",
    "max_day = 182 + np.argmax(df_q3)\n",
    "\n",
    "print(f\"Lowest price was on day {min_day} ({Q3_min}).\")\n",
    "print(f\"Lowest price was on day {max_day} ({Q3_max}).\")"
   ]
  },
  {
   "cell_type": "markdown",
   "id": "adf651d0-82f8-4ff7-8bf4-d04189d8082b",
   "metadata": {},
   "source": [
    "**visualization**\n",
    "- The graph displays the Bitcoin price trends across all four quarters and with each subplot representing a different quarter (Q1, Q2, Q3, and Q4) in different colors: red for Q1, blue for Q2, green for Q3, and yellow for Q4. The x-axis represents the days, while the y-axis shows the BTC price in USD."
   ]
  },
  {
   "cell_type": "code",
   "execution_count": null,
   "id": "986c7efd-0cd0-447d-b940-45a7a2dfafa5",
   "metadata": {},
   "outputs": [],
   "source": [
    "#Plotting All Four Quarters graphs\n",
    "df_q1 = BTC_df[1:90]\n",
    "df_q2 = BTC_df[91:181]\n",
    "df_q4 = BTC_df[274:365]\n",
    "\n",
    "fig,axe = plt.subplots(2,2,figsize=(12,6))\n",
    "\n",
    "axe[0,0].plot(df_q1,\"red\")\n",
    "axe[0,0].set_title('Q1')\n",
    "axe[0,1].plot(df_q2,\"blue\")\n",
    "axe[0,1].set_title('Q2')\n",
    "axe[1,0].plot(df_q3,\"green\")\n",
    "axe[1,0].set_title('Q3')\n",
    "axe[1,1].plot(df_q4,\"yellow\")\n",
    "axe[1,1].set_title('Q4')\n",
    "\n",
    "\n",
    "\n",
    "fig.supxlabel(\"Days\")\n",
    "fig.supylabel(\"BTC Price in USD\")\n",
    "\n",
    "\n",
    "plt.tight_layout()\n",
    "plt.show()\n",
    "\n",
    "\n"
   ]
  },
  {
   "cell_type": "markdown",
   "id": "668ed611-0911-4d7a-851b-ac6ab397b7f7",
   "metadata": {},
   "source": [
    "**visualization** \n",
    "- The boxplot visualizes the distribution of daily price changes in Bitcoin (BTC) during Q3 2023 and highlighting the spread of daily price increases. The green 'x' marker indicates the mean daily price change."
   ]
  },
  {
   "cell_type": "code",
   "execution_count": null,
   "id": "34958087-122f-4b06-a4b2-83ff11966cc5",
   "metadata": {},
   "outputs": [],
   "source": [
    "#Boxplot of Daily Changes in Q3\n",
    "price_diff = np.diff(df_q3)\n",
    "plt.figure(figsize=(11,3))\n",
    "plt.boxplot(price_diff,vert=False)\n",
    "\n",
    "\n",
    "mean_value = np.mean(price_diff)\n",
    "\n",
    "plt.plot(mean_value,1,\"gx\",markersize=10,label=\"Mean\")\n",
    "plt.title(\"Distribution of BTC-to-USD daily price increases in Q3 2023\")\n",
    "\n",
    "plt.show()"
   ]
  },
  {
   "cell_type": "markdown",
   "id": "f5ee7379-8507-455b-93c8-76f5d62a3d42",
   "metadata": {},
   "source": [
    "**outliers**\n",
    "- The report calculates the number of outliers in the daily Bitcoin price changes during Q3 2023. Outliers are days where the price change is significantly higher or lower than most other days. The count of these outlier days is displayed in the results."
   ]
  },
  {
   "cell_type": "code",
   "execution_count": null,
   "id": "20d2a1ca-52ea-4864-a05b-f310007990ea",
   "metadata": {},
   "outputs": [],
   "source": [
    "# Printing number of outliers\n",
    "q1_diff = np.percentile(price_diff, 25)\n",
    "q3_diff = np.percentile(price_diff, 75)\n",
    "iqr_diff = q3_diff - q1_diff\n",
    "\n",
    "\n",
    "lower_bound = q1_diff - 1.5 * iqr_diff\n",
    "upper_bound = q3_diff + 1.5 * iqr_diff\n",
    "\n",
    "\n",
    "outliers = np.sum((price_diff < lower_bound) | (price_diff > upper_bound))\n",
    "\n",
    "print(\"Number of outliers:\", outliers)"
   ]
  },
  {
   "cell_type": "markdown",
   "id": "49f4622e-c3cb-4d1d-a6bf-f3a35930fb56",
   "metadata": {},
   "source": [
    "**Conclusion**  \n",
    "This analysis provided insights into the volatility and trends in Bitcoin prices in 2023, with detailed focus on Q3,\n",
    "the data showed the highest price in Q3 occurred on day\", max_day, \"and the lowest on day\", min_day,Daily price changes revealed\", len(outliers), \"notable outliers, highlighting potential market-moving events."
   ]
  }
 ],
 "metadata": {
  "kernelspec": {
   "display_name": "Python 3 (ipykernel)",
   "language": "python",
   "name": "python3"
  },
  "language_info": {
   "codemirror_mode": {
    "name": "ipython",
    "version": 3
   },
   "file_extension": ".py",
   "mimetype": "text/x-python",
   "name": "python",
   "nbconvert_exporter": "python",
   "pygments_lexer": "ipython3",
   "version": "3.12.4"
  }
 },
 "nbformat": 4,
 "nbformat_minor": 5
}
