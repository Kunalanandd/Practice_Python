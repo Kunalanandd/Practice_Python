{
 "cells": [
  {
   "cell_type": "markdown",
   "id": "a84976ce-e26c-4443-81cc-a133795cee41",
   "metadata": {},
   "source": [
    "**Task 1.1P: BMI Analysis**"
   ]
  },
  {
   "cell_type": "markdown",
   "id": "be037b39-568a-4553-a7e3-f9b5b413677a",
   "metadata": {},
   "source": [
    "**Introduction**<br>\n",
    "The BMI is analysed in this report using python. Calculating a group of people's BMI values and grouping them according to WHO guidelines and showing the finding in a bar plot are the goals. Moreover, a review of BMI's limits is presented. <br>\n",
    "In this task we are doing:\n",
    "- **Input data**\n",
    "- **For loop**\n",
    "- **Visualization**"
   ]
  },
  {
   "cell_type": "markdown",
   "id": "cbd50e16-d462-435f-aef4-d9e6575ce4a9",
   "metadata": {},
   "source": [
    "**Input Data**<br>\n",
    "- Creating three list names, height and weight respectively. Which is having same shapes."
   ]
  },
  {
   "cell_type": "code",
   "execution_count": 4,
   "id": "c6308da0-695f-45be-9417-9d600e422f11",
   "metadata": {},
   "outputs": [],
   "source": [
    "#input data in list\n",
    "names = [\"Kunal\",\"Parth\",\"Rahul\",\"Ram\",\"Anand\"]\n",
    "height = [178,170,152,165,180] # in cm\n",
    "weight=[80,85,95,75,65] # in kg\n"
   ]
  },
  {
   "cell_type": "code",
   "execution_count": 5,
   "id": "539cecc4-9daf-4cf2-9ec8-78b0e779cc99",
   "metadata": {},
   "outputs": [
    {
     "data": {
      "text/plain": [
       "('Anand', 180, 65)"
      ]
     },
     "execution_count": 5,
     "metadata": {},
     "output_type": "execute_result"
    }
   ],
   "source": [
    "names[4],height[4],weight[4]"
   ]
  },
  {
   "cell_type": "markdown",
   "id": "2e18e7f7-2660-41e2-a677-764ac650ac97",
   "metadata": {},
   "source": [
    "**For loop**<br>\n",
    "\n",
    "- In these two loops, we are calculating BMI and the new BMI. which have exponents of 2 and 2.5, respectively."
   ]
  },
  {
   "cell_type": "code",
   "execution_count": 7,
   "id": "97ea3d90-a784-4b8f-9a3d-f3b5686bdc03",
   "metadata": {},
   "outputs": [],
   "source": [
    "#function for calculation BMI\n",
    "bmis = []\n",
    "for i in range(len(names)):\n",
    "    bmi = weight[i]/((height[i]/100)**2)\n",
    "    bmis.append(round(bmi,2))\n",
    "\n",
    "new_bmis = []\n",
    "for i in range(len(names)):\n",
    "    nbmi = weight[i]/((height[i]/100)**2.5)\n",
    "    new_bmis.append(round(bmi,2))\n",
    "\n",
    "\n",
    "    \n"
   ]
  },
  {
   "cell_type": "markdown",
   "id": "f3c92b5a-038d-4e4d-ad9d-918f5a303f0c",
   "metadata": {},
   "source": [
    "**Print BMI of my friends**<br>\n",
    "- using for loop to print list elememts"
   ]
  },
  {
   "cell_type": "code",
   "execution_count": 9,
   "id": "5c8c368e-c37f-4c1a-8340-e86bf48823ab",
   "metadata": {},
   "outputs": [
    {
     "name": "stdout",
     "output_type": "stream",
     "text": [
      "Kunal Bmi is 25.25\n",
      "Parth Bmi is 29.41\n",
      "Rahul Bmi is 41.12\n",
      "Ram Bmi is 27.55\n",
      "Anand Bmi is 20.06\n"
     ]
    }
   ],
   "source": [
    "#Printing result using for loop\n",
    "for i in range(len(names)):\n",
    "    print(f\"{names[i]} Bmi is {bmis[i]}\")"
   ]
  },
  {
   "cell_type": "markdown",
   "id": "9db3ddfa-6f23-4769-8b66-a07551d16bd2",
   "metadata": {},
   "source": [
    "**Printing BMI category of my friends and their old BMI and new BMI**<br>\n",
    "- in this we are printing BMI categories as defined by the WHO (underweight if below 18.5, normal range\n",
    "below 25.0, overweight below 30.0, obese otherwise"
   ]
  },
  {
   "cell_type": "code",
   "execution_count": 11,
   "id": "cd3ebdb5-bc90-45d8-a149-0dd0dc3f8ae6",
   "metadata": {},
   "outputs": [
    {
     "name": "stdout",
     "output_type": "stream",
     "text": [
      "Kunal has BMI of 25.25 which is overweight. The new BMI index is 20.06\n",
      "Parth has BMI of 29.41 which is overweight. The new BMI index is 20.06\n",
      "Rahul has BMI of 41.12 which is obese. The new BMI index is 20.06\n",
      "Ram has BMI of 27.55 which is overweight. The new BMI index is 20.06\n",
      "Anand has BMI of 20.06 which is normal. The new BMI index is 20.06\n"
     ]
    }
   ],
   "source": [
    "# defining category of BMI using if else conditions.\n",
    "for i in range(len(bmis)):\n",
    "    \n",
    "    if bmis[i] < 18.5:\n",
    "        bmi_category = \"underweight\"\n",
    "        \n",
    "    elif  18.5<=  bmis[i]<25.0:\n",
    "        bmi_category = \"normal\"\n",
    "        \n",
    "    elif 25.0<= bmis[i]<30.0:\n",
    "        bmi_category = \"overweight\"\n",
    "        \n",
    "    else:\n",
    "        bmi_category = \"obese\"\n",
    "    print(f\"{names[i]} has BMI of {bmis[i]} which is {bmi_category}. The new BMI index is {new_bmis[i]}\")\n",
    "        \n",
    "        "
   ]
  },
  {
   "cell_type": "code",
   "execution_count": 12,
   "id": "21444faa-0e5e-45bb-a593-9a0d7fb29ff7",
   "metadata": {},
   "outputs": [],
   "source": [
    "#importing module\n",
    "import matplotlib.pyplot as plt \n"
   ]
  },
  {
   "cell_type": "markdown",
   "id": "86a0ea73-4181-45bd-9c42-52fcd017f780",
   "metadata": {},
   "source": [
    "**Visualization of BMI**\n",
    "- In this, we are using the matplotlib library to visualize my friend's BMI using the bar function."
   ]
  },
  {
   "cell_type": "code",
   "execution_count": 14,
   "id": "9961e828-a118-4bcd-a5d1-8d43ae34a0fd",
   "metadata": {},
   "outputs": [
    {
     "data": {
      "image/png": "[encoded data removed]",
      "text/plain": [
       "<Figure size 640x480 with 1 Axes>"
      ]
     },
     "metadata": {},
     "output_type": "display_data"
    }
   ],
   "source": [
    "#bar plot with colors according to category \n",
    "colors = ['orange' if bmi < 18.5 else 'lightgreen' if bmi < 25 else 'lightblue' if bmi < 30 else 'red' for bmi in bmis]\n",
    "    \n",
    "plt.bar(names,bmis,color=colors)\n",
    "plt.xlabel(\"Names\")\n",
    "plt.ylabel(\"BMI\")\n",
    "plt.title(\"My Friends' BMIs\")\n",
    "plt.show()"
   ]
  },
  {
   "cell_type": "markdown",
   "id": "f7f64a31-3c26-43ad-be23-880396c30c34",
   "metadata": {},
   "source": [
    "**Discussion on BMI Benfits and limitations**)."
   ]
  },
  {
   "cell_type": "markdown",
   "id": "0cb97431-a2d5-4989-98c8-44bbed051814",
   "metadata": {},
   "source": [
    "\n",
    "**Benefits:** Body Mass index (BMI) is a widely used tool for determing weight and in relation to height. It assists medical professiona;ls in tracking public health trends and identifying those who may be at risk for diseases linked to obesity. It is practical for extensive helath assenssments due to its simplicity in computation. Bmi is helpful as a basic screenig tools but it does not give full picture of the health.<br>\n",
    "**Limitations** The reality that BMI does not differentiate between bone, muscle and fat mass is one of its main drawbacks. This can result in incorrect classification and especially among older people with low muscle mass or sportmen with high musclur mass. Moreover, its ignores the distribution of fat and which matters becuase belly fat is more gharmfdul to health than subcutaneous fat. when BMI is used alone is not accueate indicator of general health because of these shortcomings.<br>\n",
    "BMI is can be misused in insurance policy , job and social situations. which result in stigma. with out taking other health indicators into account, emoloyers and insurers amy unjsutly penalize people based on BMI. unhealthy diets and problems with body image can also be compounded by the social emphasis on BMI. BMI is a good place to start and but for aa more review. ot should be combined with other health indicators."
   ]
  },
  {
   "cell_type": "markdown",
   "id": "b8f37b4b-1bcc-43ac-8734-eafaeabde3bb",
   "metadata": {},
   "source": [
    "**New BMI advantages and limitations of this measure**"
   ]
  },
  {
   "cell_type": "markdown",
   "id": "a2a45e84-5554-42b2-bc66-5ad96ce4c115",
   "metadata": {},
   "source": [
    "The new BMI (with exponent of 2.5) aims to correct BMI's tendeny to overestimate the weight of taller individuals and underestimate the weight of shorter individuals. one benefit os that it acounts for height more effectively which could make ot more accurate when comparing people of different heights. An exponent that is more in line with actual body scaling could offer more accurate information about body weight in relation to height because human bodies do not scale linearly.\n",
    "The new BMI does not differentiate between muscke mass and fat. its an improvement. it does not take into consideration fat distribution and which is essential for assessing health risks and just like the traditional BMI. for example: a person who has a high visceral fat percentage but normal new bmi may still be at risk for metabolic disorders.\n",
    "\n",
    "overall the new bmi is a step in the right direction for improving weight assessment for a more thorough health evaluation and it should still be used together with other metrics like body fat percentage and waist to hip ratio. it should not be the only factor used to determine a person health as is the case with any one measure."
   ]
  },
  {
   "cell_type": "markdown",
   "id": "0f6ed2f9-b229-4b30-9d20-e09872cf994d",
   "metadata": {},
   "source": [
    "**Conclusion:**  \n",
    "This analysis demonstrated BMI calculation and categorization in base Python, discussing its limitations and introducing an alternative formula for better accuracy. To address this issue we introduce the new BMI calculation and offering improved precision for better results"
   ]
  }
 ],
 "metadata": {
  "kernelspec": {
   "display_name": "Python 3 (ipykernel)",
   "language": "python",
   "name": "python3"
  },
  "language_info": {
   "codemirror_mode": {
    "name": "ipython",
    "version": 3
   },
   "file_extension": ".py",
   "mimetype": "text/x-python",
   "name": "python",
   "nbconvert_exporter": "python",
   "pygments_lexer": "ipython3",
   "version": "3.12.4"
  }
 },
 "nbformat": 4,
 "nbformat_minor": 5
}
